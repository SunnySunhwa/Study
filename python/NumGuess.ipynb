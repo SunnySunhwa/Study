{
 "cells": [
  {
   "cell_type": "code",
   "execution_count": 1,
   "metadata": {},
   "outputs": [
    {
     "name": "stdout",
     "output_type": "stream",
     "text": [
      "what's your name?sunhwa\n",
      "Guess a number, sunhwa: 3\n",
      "you lose, sunhwa\n"
     ]
    }
   ],
   "source": [
    "import random\n",
    "\n",
    "user_name = input(\"what's your name?\")\n",
    "\n",
    "user = int(input(\"Guess a number, {}: \".format(user_name)))\n",
    "com = random.randint(1,10)\n",
    "\n",
    "if user == com:\n",
    "    print('you win, {}'.format(user_name))\n",
    "else:\n",
    "    print('you lose, {}'.format(user_name))"
   ]
  },
  {
   "cell_type": "code",
   "execution_count": 8,
   "metadata": {},
   "outputs": [
    {
     "name": "stdout",
     "output_type": "stream",
     "text": [
      "whats your name?sunhwa\n",
      "2\n",
      "Guess a number, sunhwa: 3\n",
      "5\n",
      "Guess a number, sunhwa: 5\n",
      "7\n",
      "Guess a number, sunhwa: 1\n",
      "you lose, sunhwa\n"
     ]
    }
   ],
   "source": [
    "# 3판 2선승제\n",
    "\n",
    "import random\n",
    "\n",
    "\n",
    "user_name = input(\"whats your name?\")\n",
    "result = [False, False, False]\n",
    "# user가 이겼을때 false -> true로\n",
    "\n",
    "\n",
    "for i in range(3):\n",
    "    com = random.randint(1,10)\n",
    "    #print(com)\n",
    "    user = int(input(\"Guess a number, {}: \".format(user_name)))\n",
    "    \n",
    "    if user == com:\n",
    "        result[i] = True\n",
    "\n",
    "\n",
    "\n",
    "if result.count(True) >= 2:\n",
    "    print('you win, {}'.format(user_name))\n",
    "else:\n",
    "    print('you lose, {}'.format(user_name))"
   ]
  },
  {
   "cell_type": "code",
   "execution_count": null,
   "metadata": {
    "collapsed": true
   },
   "outputs": [],
   "source": []
  }
 ],
 "metadata": {
  "kernelspec": {
   "display_name": "Python 3",
   "language": "python",
   "name": "python3"
  },
  "language_info": {
   "codemirror_mode": {
    "name": "ipython",
    "version": 3
   },
   "file_extension": ".py",
   "mimetype": "text/x-python",
   "name": "python",
   "nbconvert_exporter": "python",
   "pygments_lexer": "ipython3",
   "version": "3.6.2"
  }
 },
 "nbformat": 4,
 "nbformat_minor": 2
}
