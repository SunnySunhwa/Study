{
 "cells": [
  {
   "cell_type": "code",
   "execution_count": 1,
   "metadata": {
    "collapsed": true
   },
   "outputs": [],
   "source": [
    "li = [1, 2, 3, 4, 5]"
   ]
  },
  {
   "cell_type": "code",
   "execution_count": 2,
   "metadata": {
    "collapsed": true
   },
   "outputs": [],
   "source": [
    "# for문으로 타겟 찾기\n",
    "#선형 탐색\n",
    "#linear_search\n",
    "def linear_search(data, target): \n",
    "    '''\n",
    "    data에서 target의 인덱스를 반환\n",
    "    '''\n",
    "    \n",
    "    for e in data:\n",
    "        if target == e:\n",
    "            return data.index(e)\n",
    "    return None"
   ]
  },
  {
   "cell_type": "code",
   "execution_count": 4,
   "metadata": {},
   "outputs": [
    {
     "name": "stdout",
     "output_type": "stream",
     "text": [
      "3\n"
     ]
    }
   ],
   "source": [
    "idx = linear_search(li, 4)\n",
    "\n",
    "if idx:\n",
    "    print(idx)\n",
    "else:\n",
    "    print('no search data')"
   ]
  },
  {
   "cell_type": "code",
   "execution_count": 7,
   "metadata": {
    "collapsed": true
   },
   "outputs": [],
   "source": [
    "#같은 인테페이스를 가지지만 성능이 훨씬 좋은 알고리즘\n",
    "#이진탐색\n",
    "#binary search\n",
    "#단, data는 반드시 정렬된 상태로 넣어져야한다. (알고리즘 함수를 사용하는 유저가)\n",
    "\n",
    "def binary_search(data, target):\n",
    "    '''\n",
    "    data에서 target의 인덱스\n",
    "    target이 없다면 None\n",
    "    '''\n",
    "    start = 0\n",
    "    end = len(data) - 1\n",
    "   \n",
    "    \n",
    "    while start <= end:\n",
    "        mid = (start + end) // 2\n",
    "        if target == data[mid]:\n",
    "            return mid\n",
    "        elif target < data[mid]:\n",
    "            end = mid - 1\n",
    "        else:\n",
    "            start = mid + 1\n",
    "    return None\n",
    "    \n",
    "    \n",
    "    "
   ]
  },
  {
   "cell_type": "code",
   "execution_count": 12,
   "metadata": {},
   "outputs": [],
   "source": [
    "li = [3, 6, 9, 12, 15]"
   ]
  },
  {
   "cell_type": "code",
   "execution_count": 15,
   "metadata": {},
   "outputs": [
    {
     "name": "stdout",
     "output_type": "stream",
     "text": [
      "4\n"
     ]
    }
   ],
   "source": [
    "idx = binary_search(li, 15)\n",
    "\n",
    "if idx:\n",
    "    print(idx)\n",
    "else:\n",
    "    print('no search data')"
   ]
  },
  {
   "cell_type": "code",
   "execution_count": null,
   "metadata": {
    "collapsed": true
   },
   "outputs": [],
   "source": []
  }
 ],
 "metadata": {
  "kernelspec": {
   "display_name": "Python 3",
   "language": "python",
   "name": "python3"
  },
  "language_info": {
   "codemirror_mode": {
    "name": "ipython",
    "version": 3
   },
   "file_extension": ".py",
   "mimetype": "text/x-python",
   "name": "python",
   "nbconvert_exporter": "python",
   "pygments_lexer": "ipython3",
   "version": "3.6.2"
  }
 },
 "nbformat": 4,
 "nbformat_minor": 2
}
