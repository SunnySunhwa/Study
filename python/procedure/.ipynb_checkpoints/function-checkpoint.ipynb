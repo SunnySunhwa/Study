{
 "cells": [
  {
   "cell_type": "code",
   "execution_count": 4,
   "metadata": {},
   "outputs": [],
   "source": [
    "#functions.py\n",
    "\n",
    "from openpyxl import *\n",
    "import math\n",
    "\n",
    "def average(scores):\n",
    "    #scores -> 점수리스트\n",
    "    s = 0\n",
    "    for score in scores:\n",
    "        s += score\n",
    "    return round(s / len(scores), 1)\n",
    "\n",
    "def variance(scores, avrg): \n",
    "    s = 0\n",
    "    for score in scores:\n",
    "        s += (score - avrg)**2\n",
    "    return round(s / len(scores), 1)\n",
    "\n",
    "\n",
    "def std_dev(variance): \n",
    "    return round(math.sqrt(variance), 1)\n",
    "\n",
    "def get_data_from_excel(filename): \n",
    "    raw_data = {}\n",
    "    wb = load_workbook(filename)\n",
    "    ws = wb.active\n",
    "    g = ws.rows\n",
    "    for k, v in g:\n",
    "        raw_data[k.value] = v.value\n",
    "    return raw_data\n",
    "\n",
    "\n",
    "#total_avrg: 전체 평균, sd : user가 선택하는 기준 표준 편차\n",
    "def evaluateClass(avrg, total_avrg, std_dev, sd):\n",
    "    if avrg < total_avrg and std_dev > sd:\n",
    "        print(\"성적이 너무 저조하고 학생들의 실력 차이가 너무 크다.\")\n",
    "    elif avrg > total_avrg and std_dev > sd:\n",
    "        print(\"성적은 평균이상이지만 학생들 실력 차이가 크다. 주의 요망!\")\n",
    "    elif avrg < total_avrg and std_dev < sd:\n",
    "        print(\"학생들간 실력차는 나지 않으나 성적이 너무 저조하다. 주의 요망!\")\n",
    "    elif avrg > total_avrg and std_dev < sd:\n",
    "        print(\"성적도 평균 이상이고 학생들의 실력차도 크지 않다.\")\n",
    "\n"
   ]
  },
  {
   "cell_type": "code",
   "execution_count": null,
   "metadata": {
    "collapsed": true
   },
   "outputs": [],
   "source": []
  }
 ],
 "metadata": {
  "kernelspec": {
   "display_name": "Python 3",
   "language": "python",
   "name": "python3"
  },
  "language_info": {
   "codemirror_mode": {
    "name": "ipython",
    "version": 3
   },
   "file_extension": ".py",
   "mimetype": "text/x-python",
   "name": "python",
   "nbconvert_exporter": "python",
   "pygments_lexer": "ipython3",
   "version": "3.6.2"
  }
 },
 "nbformat": 4,
 "nbformat_minor": 2
}
